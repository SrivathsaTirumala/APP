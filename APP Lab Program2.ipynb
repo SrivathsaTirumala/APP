{
 "cells": [
  {
   "cell_type": "markdown",
   "metadata": {},
   "source": [
    "# Advanced Python Programming Lab Program2"
   ]
  },
  {
   "cell_type": "raw",
   "metadata": {},
   "source": [
    "Consider the following string:\n",
    "'''Mr. Akhil logged in at Mon, 19 Jan 2019 07:50:17 GMT from qw65j@gmail.com\n",
    "Mr. Ankit logged in at Sun, 20 Oct 2020 08:20:27 GMT from abcef.123@gmail.com\n",
    "Mr. Ravi logged in at Fri, 10 Aug 2021 02:50:47 GMT from pqr@gmail.com\n",
    "Mr. Younus logged in at Tue, 21 Feb 2007 09:10:17 GMT from asdf@gmail.com'''\n"
   ]
  },
  {
   "cell_type": "raw",
   "metadata": {},
   "source": [
    "Create Regular Expressions that:"
   ]
  },
  {
   "cell_type": "raw",
   "metadata": {},
   "source": [
    "(a) Extract the complete timestamps from each line."
   ]
  },
  {
   "cell_type": "raw",
   "metadata": {},
   "source": [
    "Output: \n",
    "    Mon, 19 Jan 2019 07:50:17 GMT\n",
    "    Sun, 20 Oct 2020 08:20:27 GMT\n",
    "    Fri, 10 Aug 2021 02:50:47 GMT\n",
    "    Tue, 21 Feb 2007 09:10:17 GMT"
   ]
  },
  {
   "cell_type": "code",
   "execution_count": 32,
   "metadata": {},
   "outputs": [
    {
     "name": "stdout",
     "output_type": "stream",
     "text": [
      "Mon, 19 Jan 2019 07:50:17 GMT\n",
      "Sun, 20 Oct 2020 08:20:27 GMT\n",
      "Fri, 10 Aug 2021 02:50:47 GMT\n",
      "Tue, 21 Feb 2007 09:10:17 GMT\n"
     ]
    }
   ],
   "source": [
    "s='''Mr. Akhil logged in at Mon, 19 Jan 2019 07:50:17 GMT from qw65j@gmail.com\n",
    "Mr. Ankit logged in at Sun, 20 Oct 2020 08:20:27 GMT from abcef.123@gmail.com\n",
    "Mr. Ravi logged in at Fri, 10 Aug 2021 02:50:47 GMT from pqr@gmail.com\n",
    "Mr. Younus logged in at Tue, 21 Feb 2007 09:10:17 GMT from asdf@gmail.com'''\n",
    "import re\n",
    "def get_url_pattern(s):\n",
    "    return f\"{s[0]}, {s[1]} {s[2]} {s[3]} {s[4]} {s[5]}\"\n",
    "res=re.findall(r'([A-Za-z]+),\\s([0-9]+)\\s([A-Za-z]+)\\s([0-9]+)\\s([\\d:\\d:\\d]+)\\s([A-Z]+)',s)\n",
    "for i in res:\n",
    "    print(get_url_pattern(i))"
   ]
  },
  {
   "cell_type": "raw",
   "metadata": {},
   "source": [
    "(b) Extract the complete e-mail address from each line"
   ]
  },
  {
   "cell_type": "raw",
   "metadata": {},
   "source": [
    "Output:\n",
    "        qw65j@gmail.com\n",
    "        abcef.123@gmail.com\n",
    "        pqr@gmail.com\n",
    "        asdf@gmail.com"
   ]
  },
  {
   "cell_type": "code",
   "execution_count": 33,
   "metadata": {},
   "outputs": [
    {
     "name": "stdout",
     "output_type": "stream",
     "text": [
      " qw65j@gmail.com\n",
      " abcef.123@gmail.com\n",
      " pqr@gmail.com\n",
      " asdf@gmail.com\n"
     ]
    }
   ],
   "source": [
    "s='''Mr. Akhil logged in at Mon, 19 Jan 2019 07:50:17 GMT from qw65j@gmail.com\n",
    "Mr. Ankit logged in at Sun, 20 Oct 2020 08:20:27 GMT from abcef.123@gmail.com\n",
    "Mr. Ravi logged in at Fri, 10 Aug 2021 02:50:47 GMT from pqr@gmail.com\n",
    "Mr. Younus logged in at Tue, 21 Feb 2007 09:10:17 GMT from asdf@gmail.com'''\n",
    "res=re.findall(r'\\s[\\w\\.]+@[\\w\\.]+',s)\n",
    "for i in res:\n",
    "     print(i)"
   ]
  },
  {
   "cell_type": "raw",
   "metadata": {},
   "source": [
    "(c) Extract only the months from the timestamps"
   ]
  },
  {
   "cell_type": "raw",
   "metadata": {},
   "source": [
    "Output:\n",
    "        Jan\n",
    "        Oct\n",
    "        Aug\n",
    "        Feb"
   ]
  },
  {
   "cell_type": "code",
   "execution_count": 34,
   "metadata": {},
   "outputs": [
    {
     "name": "stdout",
     "output_type": "stream",
     "text": [
      "Jan \n",
      "Oct \n",
      "Aug \n",
      "Feb \n"
     ]
    }
   ],
   "source": [
    "s='''Mr. Akhil logged in at Mon, 19 Jan 2019 07:50:17 GMT from qw65j@gmail.com\n",
    "Mr. Ankit logged in at Sun, 20 Oct 2020 08:20:27 GMT from abcef.123@gmail.com\n",
    "Mr. Ravi logged in at Fri, 10 Aug 2021 02:50:47 GMT from pqr@gmail.com\n",
    "Mr. Younus logged in at Tue, 21 Feb 2007 09:10:17 GMT from asdf@gmail.com'''\n",
    "res=re.findall(r'\\s([A-Z]{1}[a-z]{2}\\s)',s)\n",
    "for i in res:\n",
    "    print(i)"
   ]
  },
  {
   "cell_type": "code",
   "execution_count": 35,
   "metadata": {},
   "outputs": [
    {
     "ename": "SyntaxError",
     "evalue": "invalid syntax (3090588488.py, line 1)",
     "output_type": "error",
     "traceback": [
      "\u001b[1;36m  File \u001b[1;32m\"C:\\Users\\nithi\\AppData\\Local\\Temp\\ipykernel_18044\\3090588488.py\"\u001b[1;36m, line \u001b[1;32m1\u001b[0m\n\u001b[1;33m    (d) Extract only the years from the timestamps.\u001b[0m\n\u001b[1;37m        ^\u001b[0m\n\u001b[1;31mSyntaxError\u001b[0m\u001b[1;31m:\u001b[0m invalid syntax\n"
     ]
    }
   ],
   "source": [
    "(d) Extract only the years from the timestamps.\n"
   ]
  },
  {
   "cell_type": "raw",
   "metadata": {},
   "source": [
    "Output:\n",
    "    2019\n",
    "    2020\n",
    "    2021\n",
    "    2007"
   ]
  },
  {
   "cell_type": "code",
   "execution_count": 36,
   "metadata": {},
   "outputs": [
    {
     "name": "stdout",
     "output_type": "stream",
     "text": [
      "2019 \n",
      "2020 \n",
      "2021 \n",
      "2007 \n"
     ]
    }
   ],
   "source": [
    "s='''Mr. Akhil logged in at Mon, 19 Jan 2019 07:50:17 GMT from qw65j@gmail.com\n",
    "Mr. Ankit logged in at Sun, 20 Oct 2020 08:20:27 GMT from abcef.123@gmail.com\n",
    "Mr. Ravi logged in at Fri, 10 Aug 2021 02:50:47 GMT from pqr@gmail.com\n",
    "Mr. Younus logged in at Tue, 21 Feb 2007 09:10:17 GMT from asdf@gmail.com'''\n",
    "res=re.findall(r'\\s([0-9]{4}\\s)',s)\n",
    "for i in res:\n",
    "    print(i)"
   ]
  },
  {
   "cell_type": "raw",
   "metadata": {},
   "source": [
    "(e) Extract only the time (HH:MM:SS) from the timestamps"
   ]
  },
  {
   "cell_type": "raw",
   "metadata": {},
   "source": [
    "Output:\n",
    "    07:50:17\n",
    "    08:20:27\n",
    "    02:50:47\n",
    "    09:10:17"
   ]
  },
  {
   "cell_type": "code",
   "execution_count": 6,
   "metadata": {},
   "outputs": [
    {
     "name": "stdout",
     "output_type": "stream",
     "text": [
      "07:50:17\n",
      "08:20:27\n",
      "02:50:47\n",
      "09:10:17\n"
     ]
    }
   ],
   "source": [
    "import re\n",
    "s='''Mr. Akhil logged in at Mon, 19 Jan 2019 07:50:17 GMT from qw65j@gmail.com\n",
    "Mr. Ankit logged in at Sun, 20 Oct 2020 08:20:27 GMT from abcef.123@gmail.com\n",
    "Mr. Ravi logged in at Fri, 10 Aug 2021 02:50:47 GMT from pqr@gmail.com\n",
    "Mr. Younus logged in at Tue, 21 Feb 2007 09:10:17 GMT from asdf@gmail.com'''\n",
    "def fun(s):\n",
    "    return f\"{s}\"\n",
    "res=re.findall(r'\\d{2}:\\d{2}:\\d{2}',s)\n",
    "for i in res:\n",
    "    print(fun(i))"
   ]
  },
  {
   "cell_type": "code",
   "execution_count": null,
   "metadata": {},
   "outputs": [],
   "source": []
  }
 ],
 "metadata": {
  "kernelspec": {
   "display_name": "base",
   "language": "python",
   "name": "python3"
  },
  "language_info": {
   "codemirror_mode": {
    "name": "ipython",
    "version": 3
   },
   "file_extension": ".py",
   "mimetype": "text/x-python",
   "name": "python",
   "nbconvert_exporter": "python",
   "pygments_lexer": "ipython3",
   "version": "3.9.13"
  },
  "vscode": {
   "interpreter": {
    "hash": "5358296a40f291bd2120dabebe7eb32500c0c4a93eeca3dc9ff89ab92ed09b03"
   }
  }
 },
 "nbformat": 4,
 "nbformat_minor": 2
}
