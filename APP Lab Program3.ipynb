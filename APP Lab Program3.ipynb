{
 "cells": [
  {
   "cell_type": "markdown",
   "metadata": {},
   "source": [
    "# Advanced Python Programming Lab Program3"
   ]
  },
  {
   "cell_type": "markdown",
   "metadata": {},
   "source": [
    "Write a multithread program to create 2 threads where one thread calculates the factorial and second thread calculates square of list of numbers."
   ]
  },
  {
   "cell_type": "raw",
   "metadata": {},
   "source": [
    "Sample I/O:\n",
    "    Enter numbers\n",
    "    2,4,6,8\n",
    " \tSquare of 2 is :  4\n",
    "\tSquare of 4 is :  16\n",
    " \tSquare of 6 is :  36\n",
    " \tSquare of 8 is :  64\n",
    "\tfactorial of 2 is : 2\n",
    "\tfactorial of 4 is : 24\n",
    "\tfactorial of 6 is : 720\n",
    "\tfactorial of 8 is : 40320"
   ]
  },
  {
   "cell_type": "code",
   "execution_count": 32,
   "metadata": {},
   "outputs": [],
   "source": [
    "from threading import *\n",
    "import time"
   ]
  },
  {
   "cell_type": "code",
   "execution_count": 33,
   "metadata": {},
   "outputs": [],
   "source": [
    "x=tuple(map(int,input().split(',')))"
   ]
  },
  {
   "cell_type": "code",
   "execution_count": 34,
   "metadata": {},
   "outputs": [],
   "source": [
    "def square(*a):\n",
    "    for i in a:\n",
    "        print(f'Square of {i} is:  {i*i}')\n",
    "        \n",
    "\n",
    "def fact(*a):\n",
    "    for i in a:\n",
    "        f=1\n",
    "        for j in range(1,i+1):\n",
    "            f=f*j\n",
    "        print(f'factorial of {i} is : {f}') \n",
    "        \n"
   ]
  },
  {
   "cell_type": "code",
   "execution_count": 35,
   "metadata": {},
   "outputs": [
    {
     "name": "stdout",
     "output_type": "stream",
     "text": [
      "Square of 2 is:  4\n",
      "Square of 4 is:  16\n",
      "Square of 6 is:  36\n",
      "Square of 8 is:  64\n",
      "factorial of 2 is : 2\n",
      "factorial of 4 is : 24\n",
      "factorial of 6 is : 720\n",
      "factorial of 8 is : 40320\n"
     ]
    }
   ],
   "source": [
    "t1=Thread(target=square,args=x)\n",
    "t2=Thread(target=fact,args=x)\n",
    "t1.start()\n",
    "t2.start()\n",
    "#t1.join()\n",
    "#t2.join()"
   ]
  },
  {
   "cell_type": "code",
   "execution_count": null,
   "metadata": {},
   "outputs": [],
   "source": [
    "       \n",
    "\n",
    "\n",
    "\n"
   ]
  },
  {
   "cell_type": "code",
   "execution_count": null,
   "metadata": {},
   "outputs": [],
   "source": []
  },
  {
   "cell_type": "code",
   "execution_count": null,
   "metadata": {},
   "outputs": [],
   "source": []
  }
 ],
 "metadata": {
  "kernelspec": {
   "display_name": "Python 3 (ipykernel)",
   "language": "python",
   "name": "python3"
  },
  "language_info": {
   "codemirror_mode": {
    "name": "ipython",
    "version": 3
   },
   "file_extension": ".py",
   "mimetype": "text/x-python",
   "name": "python",
   "nbconvert_exporter": "python",
   "pygments_lexer": "ipython3",
   "version": "3.9.13"
  },
  "vscode": {
   "interpreter": {
    "hash": "5358296a40f291bd2120dabebe7eb32500c0c4a93eeca3dc9ff89ab92ed09b03"
   }
  }
 },
 "nbformat": 4,
 "nbformat_minor": 2
}
