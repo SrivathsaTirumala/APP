{
 "cells": [
  {
   "attachments": {},
   "cell_type": "markdown",
   "metadata": {},
   "source": [
    "# Advanced Python Programming Lab Program 4"
   ]
  },
  {
   "cell_type": "markdown",
   "metadata": {},
   "source": [
    "Write a python program to create two threads to count how many lines in two text files (one thread will count lines from first file and other thread from second file)."
   ]
  },
  {
   "cell_type": "markdown",
   "metadata": {},
   "source": [
    "Sample I/O:\n",
    "\n",
    "![alt text](img2.png \"Title\")"
   ]
  },
  {
   "cell_type": "raw",
   "metadata": {},
   "source": [
    "Output:\n",
    "    Enter first filename:abc.txt\n",
    "    Enter second filename:abcd.txt\n",
    "    Number of lines in file abc.txt is 4\n",
    "    Number of lines in file abcd.txt is 5\n",
    "    \n",
    "Note: [Output varies as two thread run concurrently]"
   ]
  },
  {
   "cell_type": "code",
   "execution_count": 25,
   "metadata": {},
   "outputs": [],
   "source": [
    "from threading import *"
   ]
  },
  {
   "cell_type": "code",
   "execution_count": 26,
   "metadata": {},
   "outputs": [
    {
     "name": "stdout",
     "output_type": "stream",
     "text": [
      "Number of lines in file abc.txt is 4\n",
      "Number of lines in file abcd.txt is 5\n"
     ]
    }
   ],
   "source": [
    "def counter(fname):\n",
    "    try:\n",
    "        fr=open(''+fname)\n",
    "        print(f'Number of lines in file {fname} is {len(fr.readlines())}')\n",
    "    except FileNotFoundError as e:\n",
    "        print(e)\n",
    "\n",
    "f1=input(\"enter first filename:\")\n",
    "f2=input(\"enter second filename:\")\n",
    "t1=Thread(target=counter,args=(f1,))\n",
    "t2=Thread(target=counter,args=(f2,))\n",
    "t1.start()\n",
    "t2.start()\n",
    "t1.join()\n",
    "t2.join()"
   ]
  }
 ],
 "metadata": {
  "kernelspec": {
   "display_name": "base",
   "language": "python",
   "name": "python3"
  },
  "language_info": {
   "codemirror_mode": {
    "name": "ipython",
    "version": 3
   },
   "file_extension": ".py",
   "mimetype": "text/x-python",
   "name": "python",
   "nbconvert_exporter": "python",
   "pygments_lexer": "ipython3",
   "version": "3.9.13"
  },
  "vscode": {
   "interpreter": {
    "hash": "5358296a40f291bd2120dabebe7eb32500c0c4a93eeca3dc9ff89ab92ed09b03"
   }
  }
 },
 "nbformat": 4,
 "nbformat_minor": 2
}
