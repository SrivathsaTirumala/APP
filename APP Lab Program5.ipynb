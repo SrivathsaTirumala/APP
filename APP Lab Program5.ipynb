{
 "cells": [
  {
   "cell_type": "markdown",
   "metadata": {},
   "source": [
    "# Advanced Python Programming Lab Program5"
   ]
  },
  {
   "cell_type": "markdown",
   "metadata": {},
   "source": [
    "Write a python script that performs basic operations using MySQL database and a corresponding Python database adapter."
   ]
  },
  {
   "cell_type": "raw",
   "metadata": {},
   "source": [
    "Output:\n",
    "    Connection sucsessful....\n",
    "    Users Table created...\n",
    "    Inserting a few rows into the database...\n",
    "    Arun    7000\n",
    "    Arjun   7001\n",
    "    Aditya  7200\n",
    "    UPDATE users 'Arjuna2' uid to 7001\n",
    "    Arun\t7000\n",
    "    Arjuna2\t7001\n",
    "    Aditya\t7200\n",
    "    Users Table Droped...\n"
   ]
  },
  {
   "cell_type": "code",
   "execution_count": 3,
   "metadata": {},
   "outputs": [
    {
     "name": "stdout",
     "output_type": "stream",
     "text": [
      "Connection Successful...\n"
     ]
    }
   ],
   "source": [
    "import mysql.connector as mysql\n",
    "try:\n",
    "    con=mysql.connect(host='localhost',user='root',password='',database='srivathsa')\n",
    "    print('Connection Successful...')\n",
    "except Exception as e:\n",
    "    print(e)"
   ]
  },
  {
   "cell_type": "code",
   "execution_count": 4,
   "metadata": {},
   "outputs": [],
   "source": [
    "cur=con.cursor()\n",
    "cur.execute('drop table users')"
   ]
  },
  {
   "cell_type": "code",
   "execution_count": 5,
   "metadata": {},
   "outputs": [
    {
     "name": "stdout",
     "output_type": "stream",
     "text": [
      "Users Table Created....\n"
     ]
    }
   ],
   "source": [
    "cur=con.cursor()\n",
    "cur.execute('CREATE TABLE users(login VARCHAR(8),uid INT)')\n",
    "print('Users Table Created....')"
   ]
  },
  {
   "cell_type": "code",
   "execution_count": 6,
   "metadata": {},
   "outputs": [
    {
     "name": "stdout",
     "output_type": "stream",
     "text": [
      " Inserting a few rows into the database...\n",
      "rows inserted into table....\n"
     ]
    }
   ],
   "source": [
    "print(' Inserting a few rows into the database...')\n",
    "cur.execute('INSERT INTO users VALUES(\"Arun\",7000)')\n",
    "cur.execute('INSERT INTO users VALUES(\"Arjun\",7001)')\n",
    "cur.execute('INSERT INTO users VALUES(\"Aditya\",7200)')\n",
    "print('rows inserted into table....')"
   ]
  },
  {
   "cell_type": "code",
   "execution_count": 7,
   "metadata": {},
   "outputs": [
    {
     "name": "stdout",
     "output_type": "stream",
     "text": [
      "Arun\t7000\n",
      "Arjun\t7001\n",
      "Aditya\t7200\n"
     ]
    }
   ],
   "source": [
    "cur.execute(\"SELECT * FROM users\")\n",
    "for data in cur.fetchall():\n",
    "    print(\"%s\\t%s\" % data)"
   ]
  },
  {
   "cell_type": "code",
   "execution_count": 8,
   "metadata": {},
   "outputs": [
    {
     "name": "stdout",
     "output_type": "stream",
     "text": [
      "UPDATE users \"Sri\" uid to 7001\n",
      "Arun\t7000\n",
      "Sri\t7001\n",
      "Aditya\t7200\n"
     ]
    }
   ],
   "source": [
    "print('UPDATE users \"Sri\" uid to 7001')\n",
    "cur.execute(\"UPDATE users SET login='Sri' WHERE uid='7001'\")\n",
    "cur.execute('SELECT * from users')\n",
    "for data in cur.fetchall():\n",
    "    print(\"%s\\t%s\" % data)"
   ]
  },
  {
   "cell_type": "code",
   "execution_count": 9,
   "metadata": {},
   "outputs": [
    {
     "name": "stdout",
     "output_type": "stream",
     "text": [
      "Users Table Droped...\n"
     ]
    }
   ],
   "source": [
    "print('Users Table Droped...')\n",
    "cur.close()\n",
    "con.commit()\n",
    "con.close()"
   ]
  }
 ],
 "metadata": {
  "kernelspec": {
   "display_name": "base",
   "language": "python",
   "name": "python3"
  },
  "language_info": {
   "codemirror_mode": {
    "name": "ipython",
    "version": 3
   },
   "file_extension": ".py",
   "mimetype": "text/x-python",
   "name": "python",
   "nbconvert_exporter": "python",
   "pygments_lexer": "ipython3",
   "version": "3.9.13"
  },
  "vscode": {
   "interpreter": {
    "hash": "5358296a40f291bd2120dabebe7eb32500c0c4a93eeca3dc9ff89ab92ed09b03"
   }
  }
 },
 "nbformat": 4,
 "nbformat_minor": 2
}
