{
 "cells": [
  {
   "cell_type": "markdown",
   "metadata": {},
   "source": [
    "# Advanced Python Programming Lab Program1"
   ]
  },
  {
   "cell_type": "markdown",
   "metadata": {},
   "source": [
    "Create Regular Expressions that "
   ]
  },
  {
   "cell_type": "markdown",
   "metadata": {},
   "source": [
    "(a) Recognize following strings bit, but, bat, hit, hat or hut"
   ]
  },
  {
   "cell_type": "markdown",
   "metadata": {},
   "source": [
    "Input: words = \"\"\"bat fish bit book keyboard but nose eye building hat try ok address hit ten lol hut\"\"\" "
   ]
  },
  {
   "cell_type": "markdown",
   "metadata": {},
   "source": [
    "Output: bat bit but hat hit hut"
   ]
  },
  {
   "cell_type": "code",
   "execution_count": 2,
   "metadata": {},
   "outputs": [],
   "source": [
    "import re"
   ]
  },
  {
   "cell_type": "code",
   "execution_count": 9,
   "metadata": {},
   "outputs": [
    {
     "name": "stdout",
     "output_type": "stream",
     "text": [
      "bat  bit  but  hat  hit  hut \n"
     ]
    }
   ],
   "source": [
    "a='bat fish bit book keyboard but nose eye building hat try ok address hit ten lol hut'\n",
    "#res=re.findall(r'[bhaiu]{2}t',a)\n",
    "res=re.findall(\"[a-z][a,e,i,o,u][t]\",a)\n",
    "print(*res)"
   ]
  },
  {
   "cell_type": "markdown",
   "metadata": {},
   "source": [
    "(b) Match any pair of words separated by a single space, that is, first and last names.\n"
   ]
  },
  {
   "cell_type": "raw",
   "metadata": {},
   "source": [
    "Input: \n",
    "    names = \"\"\" Prof T Srinivas \n",
    "                Dr G Sreenivasulu \n",
    "                Dr P VenkateswaraRao \n",
    "                Dr P Chiranjeevi \"\"\""
   ]
  },
  {
   "cell_type": "raw",
   "metadata": {},
   "source": [
    "Output:\n",
    "        First: T - Last: Srinivas\n",
    "\t\tFirst: G - Last: Sreenivasulu\n",
    "\t\tFirst: P - Last: VenkateswaraRao\n",
    "\t\tFirst: P - Last: Chiranjeevi"
   ]
  },
  {
   "cell_type": "code",
   "execution_count": 10,
   "metadata": {},
   "outputs": [],
   "source": [
    "def fun(x):\n",
    "    y=x.strip().split()\n",
    "    return f'First: {y[0]} - Last: {y[1]}\\n'"
   ]
  },
  {
   "cell_type": "code",
   "execution_count": 12,
   "metadata": {},
   "outputs": [
    {
     "name": "stdout",
     "output_type": "stream",
     "text": [
      "First: T - Last: Srinivas\n",
      " First: G - Last: Sreenivasulu\n",
      " First: P - Last: VenkateswaraRao\n",
      " First: P - Last: Chiranjeevi\n",
      "\n"
     ]
    }
   ],
   "source": [
    "name=\"\"\"  T Srinivas \n",
    "          G Sreenivasulu \n",
    "          P VenkateswaraRao \n",
    "          P Chiranjeevi \"\"\"\n",
    "res=re.findall(r'\\s[a-zA-Z]+\\s[a-zA-Z]+',name)\n",
    "t=[]\n",
    "for i in res:\n",
    "    t.append(fun(i))\n",
    "print(*t)"
   ]
  },
  {
   "cell_type": "markdown",
   "metadata": {},
   "source": [
    "(c) Match any word and single letter separated by a comma and single space, that is, first and last names.\n"
   ]
  },
  {
   "cell_type": "raw",
   "metadata": {},
   "source": [
    "Input: \n",
    "    names = \"\"\" Prof T, Srinivas\n",
    "                Dr G, Sreenivasulu \n",
    "                Dr P, VenkateswaraRao \n",
    "                Dr P, Chiranjeevi \"\"\""
   ]
  },
  {
   "cell_type": "raw",
   "metadata": {},
   "source": [
    "Output:\n",
    "        First: T - Last: Srinivas\n",
    "\t\tFirst: G - Last: Sreenivasulu\n",
    "\t\tFirst: P - Last: VenkateswaraRao\n",
    "\t\tFirst: P - Last: Chiranjeevi"
   ]
  },
  {
   "cell_type": "code",
   "execution_count": 9,
   "metadata": {},
   "outputs": [],
   "source": [
    "def fun(x):\n",
    "    return f'First: {x[0]} - Last:{x[1]}\\n'"
   ]
  },
  {
   "cell_type": "code",
   "execution_count": 10,
   "metadata": {},
   "outputs": [
    {
     "name": "stdout",
     "output_type": "stream",
     "text": [
      "First: T - Last:Srinivas\n",
      " First: G - Last:Sreenivasulu\n",
      " First: P - Last:VenkateswaraRao\n",
      " First: P - Last:Chiranjeevi\n",
      "\n"
     ]
    }
   ],
   "source": [
    "name = \"\"\" Prof T, Srinivas\n",
    "                Dr G, Sreenivasulu \n",
    "                Dr P, VenkateswaraRao \n",
    "                Dr P, Chiranjeevi \"\"\"\n",
    "res=re.findall(r'\\s([a-zA-Z]+),\\s([a-zA-Z]+)',name)\n",
    "t=[]\n",
    "for i in res:\n",
    "    t.append(fun(list(i)))\n",
    "print(*t)"
   ]
  },
  {
   "cell_type": "markdown",
   "metadata": {},
   "source": [
    "(d) Match simple Web domain names that begin with www. and end with a “.com” suffix; for example, www.yahoo.com. Extra Credit: If your regex also supports other high-level domain names, such as .edu, .net, etc. (for example, ⦁\twww.foothill.edu).\n"
   ]
  },
  {
   "cell_type": "raw",
   "metadata": {},
   "source": [
    "Input: \n",
    "    urls = \"\"\"\n",
    "https://www.aceec.ac.in\n",
    "ftp://archives.yahoo.com\n",
    "https://www.usp.br\n",
    "https://www.aceenggacademy.com\n",
    "http://news.yahoo.com?date=today\n",
    "\"\"\""
   ]
  },
  {
   "cell_type": "raw",
   "metadata": {},
   "source": [
    "Output:\n",
    "Schema: https - Host: www.aceec.ac.in - Path:  - Querystring: \n",
    "Schema: ftp - Host: archives.yahoo.com - Path:  - Querystring: \n",
    "Schema: https - Host: www.usp.br - Path:  - Querystring: \n",
    "Schema: https - Host: www.aceenggacademy.com - Path:  - Querystring: \n",
    "Schema: http - Host: news.yahoo.com - Path:  - Querystring: ?date=today"
   ]
  },
  {
   "cell_type": "code",
   "execution_count": 4,
   "metadata": {},
   "outputs": [
    {
     "name": "stdout",
     "output_type": "stream",
     "text": [
      "Schema: https - Host:www.aceec.ac.in - Path: - Querystring: \n",
      "Schema: ftp - Host:archives.yahoo.com - Path: - Querystring: \n",
      "Schema: https - Host:www.usp.br - Path: - Querystring: \n",
      "Schema: https - Host:www.aceenggacademy.com - Path: - Querystring: \n",
      "Schema: http - Host:news.yahoo.com - Path: - Querystring: ?date=today\n"
     ]
    }
   ],
   "source": [
    "import re\n",
    "url = \"\"\"\n",
    "https://www.aceec.ac.in\n",
    "ftp://archives.yahoo.com\n",
    "https://www.usp.br\n",
    "https://www.aceenggacademy.com\n",
    "http://news.yahoo.com?date=today\n",
    "\"\"\"\n",
    "def get_url_pattern(url):\n",
    "    return f\"Schema: {url[0]} - Host: {url[1]} - Path: {url[2]} - Querystring: {url[3]}\"\n",
    "res=re.findall(r'(http|https|ftp)://([\\w\\.]+)([\\w\\/]+)?([\\?\\w\\/=]+)?',url)\n",
    "for i in res:\n",
    "    print(get_url_pattern(i))"
   ]
  },
  {
   "cell_type": "markdown",
   "metadata": {},
   "source": [
    "(e) Match a street address according to your local format (keep your regex general enough to match any number of street words, including the type designation). For example, American street addresses use the format: 1180 Bordeaux Drive. Make your regex flexible enough to support multi-word street names such as: 3120 De la Cruz Boulevard."
   ]
  },
  {
   "cell_type": "raw",
   "metadata": {},
   "source": [
    "Input:\n",
    "    addresses = \"\"\"\n",
    "ACE Engineering College, 999 - Ankushapur - Hy\n",
    "ACE Academy, 8266 - Abids - TS\n",
    "\"\"\""
   ]
  },
  {
   "cell_type": "raw",
   "metadata": {},
   "source": [
    "Output:\n",
    "    Address: \n",
    "            ACE Engineering College - Number: 999 - City: Ankushapur - State: Hy\n",
    "    Address:\n",
    "            ACE Academy - Number: 8266 - City: Abids - State: TS"
   ]
  },
  {
   "cell_type": "code",
   "execution_count": 8,
   "metadata": {},
   "outputs": [
    {
     "name": "stdout",
     "output_type": "stream",
     "text": [
      "Address:\n",
      "\n",
      "ACE Engineering College - Number:999 - City:Ankushapur - State:Hy\n",
      "Address:\n",
      "\n",
      "ACE Academy - Number:8266 - City:Abids - State:TS\n"
     ]
    }
   ],
   "source": [
    "import re\n",
    "addresses = \"\"\"\n",
    "ACE Engineering College, 999 - Ankushapur - Hy\n",
    "ACE Academy, 8266 - Abids - TS\n",
    "\"\"\"\n",
    "res=re.findall(r'([\\w\\s]+),\\s{1}([\\d]+)\\s-\\s([\\w\\s]+)\\s-\\s([a-zA-Z]{2})',addresses)\n",
    "def get_addresses_pattern(addresses):\n",
    "    return f\"{addresses[0]} - Number:{addresses[1]} - City:{addresses[2]} - State:{addresses[3]}\"\n",
    "for i in res:\n",
    "    print(\"Address:\")\n",
    "    print(get_addresses_pattern(i))\n",
    "    "
   ]
  },
  {
   "cell_type": "code",
   "execution_count": null,
   "metadata": {},
   "outputs": [],
   "source": []
  }
 ],
 "metadata": {
  "kernelspec": {
   "display_name": "base",
   "language": "python",
   "name": "python3"
  },
  "language_info": {
   "codemirror_mode": {
    "name": "ipython",
    "version": 3
   },
   "file_extension": ".py",
   "mimetype": "text/x-python",
   "name": "python",
   "nbconvert_exporter": "python",
   "pygments_lexer": "ipython3",
   "version": "3.9.13"
  },
  "vscode": {
   "interpreter": {
    "hash": "5358296a40f291bd2120dabebe7eb32500c0c4a93eeca3dc9ff89ab92ed09b03"
   }
  }
 },
 "nbformat": 4,
 "nbformat_minor": 2
}
