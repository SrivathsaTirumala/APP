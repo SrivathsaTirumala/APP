{
 "cells": [
  {
   "cell_type": "markdown",
   "metadata": {},
   "source": [
    "# Advanced Python Programming Lab Program6"
   ]
  },
  {
   "cell_type": "markdown",
   "metadata": {},
   "source": [
    "Write a python script that performs basic operations using SQLite Database and a corresponding Python database adapter"
   ]
  },
  {
   "cell_type": "raw",
   "metadata": {},
   "source": [
    "Output:\n",
    "    Connection sucsessful....\n",
    "    Users Table created...\n",
    "    Inserting a few rows into the database...\n",
    "    Arun    7000\n",
    "    Arjun   7001\n",
    "    Aditya  7200\n",
    "    Users Table Droped..."
   ]
  },
  {
   "cell_type": "code",
   "execution_count": 1,
   "metadata": {},
   "outputs": [
    {
     "name": "stdout",
     "output_type": "stream",
     "text": [
      "Connection Successful...\n"
     ]
    }
   ],
   "source": [
    "import sqlite3 as sqlite\n",
    "cn=sqlite.connect('test.db')\n",
    "print(\"Connection Successful...\")"
   ]
  },
  {
   "cell_type": "code",
   "execution_count": 2,
   "metadata": {},
   "outputs": [
    {
     "data": {
      "text/plain": [
       "<sqlite3.Cursor at 0x25006f04b20>"
      ]
     },
     "execution_count": 2,
     "metadata": {},
     "output_type": "execute_result"
    }
   ],
   "source": [
    "cur=cn.cursor()\n",
    "cur.execute('drop table users')"
   ]
  },
  {
   "cell_type": "code",
   "execution_count": 3,
   "metadata": {},
   "outputs": [
    {
     "name": "stdout",
     "output_type": "stream",
     "text": [
      "Users Table created...\n"
     ]
    }
   ],
   "source": [
    "cur=cn.cursor()\n",
    "cur.execute('CREATE TABLE users(login VARCHAR(8), uid INTEGER)')\n",
    "print('Users Table created...')"
   ]
  },
  {
   "cell_type": "code",
   "execution_count": 4,
   "metadata": {},
   "outputs": [
    {
     "name": "stdout",
     "output_type": "stream",
     "text": [
      "Inserting a few rows into the database...\n",
      "rows inserted into table...\n"
     ]
    }
   ],
   "source": [
    "print('Inserting a few rows into the database...')\n",
    "cur.execute('INSERT INTO users VALUES(\"Arun\",7000)')\n",
    "cur.execute('INSERT INTO users VALUES(\"Arjun\",7001)')\n",
    "cur.execute('INSERT INTO users VALUES(\"Aditya\",7200)')\n",
    "print('rows inserted into table...')"
   ]
  },
  {
   "cell_type": "code",
   "execution_count": 5,
   "metadata": {},
   "outputs": [
    {
     "name": "stdout",
     "output_type": "stream",
     "text": [
      "Arun \t 7000\n",
      "Arjun \t 7001\n",
      "Aditya \t 7200\n"
     ]
    }
   ],
   "source": [
    "cur.execute('SELECT * from users')\n",
    "for eachUser in cur.fetchall():\n",
    "    print(eachUser[0],'\\t',eachUser[1])"
   ]
  },
  {
   "cell_type": "code",
   "execution_count": 6,
   "metadata": {},
   "outputs": [
    {
     "name": "stdout",
     "output_type": "stream",
     "text": [
      "Users Table Droped...\n"
     ]
    }
   ],
   "source": [
    "print('Users Table Droped...')\n",
    "cur.close()"
   ]
  },
  {
   "cell_type": "code",
   "execution_count": null,
   "metadata": {},
   "outputs": [],
   "source": []
  }
 ],
 "metadata": {
  "kernelspec": {
   "display_name": "base",
   "language": "python",
   "name": "python3"
  },
  "language_info": {
   "codemirror_mode": {
    "name": "ipython",
    "version": 3
   },
   "file_extension": ".py",
   "mimetype": "text/x-python",
   "name": "python",
   "nbconvert_exporter": "python",
   "pygments_lexer": "ipython3",
   "version": "3.9.13"
  },
  "vscode": {
   "interpreter": {
    "hash": "5358296a40f291bd2120dabebe7eb32500c0c4a93eeca3dc9ff89ab92ed09b03"
   }
  }
 },
 "nbformat": 4,
 "nbformat_minor": 2
}
